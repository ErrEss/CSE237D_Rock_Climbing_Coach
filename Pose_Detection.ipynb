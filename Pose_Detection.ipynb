{
  "nbformat": 4,
  "nbformat_minor": 0,
  "metadata": {
    "colab": {
      "name": "Untitled2.ipynb",
      "provenance": [],
      "collapsed_sections": []
    },
    "kernelspec": {
      "name": "python3",
      "display_name": "Python 3"
    },
    "language_info": {
      "name": "python"
    }
  },
  "cells": [
    {
      "cell_type": "code",
      "source": [
        "!pip install mediapipe"
      ],
      "metadata": {
        "colab": {
          "base_uri": "https://localhost:8080/"
        },
        "id": "DtqjqTe-Xgx7",
        "outputId": "4185f9e9-68a9-4983-9fc9-c9be8052bcb5"
      },
      "execution_count": 2,
      "outputs": [
        {
          "output_type": "stream",
          "name": "stdout",
          "text": [
            "Requirement already satisfied: mediapipe in /usr/local/lib/python3.7/dist-packages (0.8.9.1)\n",
            "Requirement already satisfied: numpy in /usr/local/lib/python3.7/dist-packages (from mediapipe) (1.21.6)\n",
            "Requirement already satisfied: attrs>=19.1.0 in /usr/local/lib/python3.7/dist-packages (from mediapipe) (21.4.0)\n",
            "Requirement already satisfied: opencv-contrib-python in /usr/local/lib/python3.7/dist-packages (from mediapipe) (4.1.2.30)\n",
            "Requirement already satisfied: absl-py in /usr/local/lib/python3.7/dist-packages (from mediapipe) (1.0.0)\n",
            "Requirement already satisfied: protobuf>=3.11.4 in /usr/local/lib/python3.7/dist-packages (from mediapipe) (3.17.3)\n",
            "Requirement already satisfied: matplotlib in /usr/local/lib/python3.7/dist-packages (from mediapipe) (3.2.2)\n",
            "Requirement already satisfied: six>=1.9 in /usr/local/lib/python3.7/dist-packages (from protobuf>=3.11.4->mediapipe) (1.15.0)\n",
            "Requirement already satisfied: python-dateutil>=2.1 in /usr/local/lib/python3.7/dist-packages (from matplotlib->mediapipe) (2.8.2)\n",
            "Requirement already satisfied: pyparsing!=2.0.4,!=2.1.2,!=2.1.6,>=2.0.1 in /usr/local/lib/python3.7/dist-packages (from matplotlib->mediapipe) (3.0.8)\n",
            "Requirement already satisfied: kiwisolver>=1.0.1 in /usr/local/lib/python3.7/dist-packages (from matplotlib->mediapipe) (1.4.2)\n",
            "Requirement already satisfied: cycler>=0.10 in /usr/local/lib/python3.7/dist-packages (from matplotlib->mediapipe) (0.11.0)\n",
            "Requirement already satisfied: typing-extensions in /usr/local/lib/python3.7/dist-packages (from kiwisolver>=1.0.1->matplotlib->mediapipe) (4.2.0)\n"
          ]
        }
      ]
    },
    {
      "cell_type": "code",
      "source": [
        "from google.colab import drive\n",
        "drive.mount('/content/drive')"
      ],
      "metadata": {
        "colab": {
          "base_uri": "https://localhost:8080/"
        },
        "id": "t5_WG-8sXkI9",
        "outputId": "1ad85a4f-e73c-4f97-f2d8-757d4af83cd9"
      },
      "execution_count": 11,
      "outputs": [
        {
          "output_type": "stream",
          "name": "stdout",
          "text": [
            "Drive already mounted at /content/drive; to attempt to forcibly remount, call drive.mount(\"/content/drive\", force_remount=True).\n"
          ]
        }
      ]
    },
    {
      "cell_type": "code",
      "source": [
        "import cv2\n",
        "import mediapipe as mp\n",
        "import time\n",
        "from scipy import spatial\n",
        "from google.colab.patches import cv2_imshow"
      ],
      "metadata": {
        "id": "ILqUYFqGXxXI"
      },
      "execution_count": 21,
      "outputs": []
    },
    {
      "cell_type": "code",
      "source": [
        "mpDraw = mp.solutions.drawing_utils\n",
        "mpPose = mp.solutions.pose\n",
        "pose = mpPose.Pose()"
      ],
      "metadata": {
        "id": "DhL3S8Y0XzBJ"
      },
      "execution_count": 22,
      "outputs": []
    },
    {
      "cell_type": "code",
      "source": [
        "cap = cv2.VideoCapture('/content/drive/MyDrive/CSE 237D/rock_dataset_0/clip2/climb.mp4')"
      ],
      "metadata": {
        "id": "QESnJ_ItZ27I"
      },
      "execution_count": 23,
      "outputs": []
    },
    {
      "cell_type": "code",
      "source": [
        "pTime = 0"
      ],
      "metadata": {
        "id": "tSG0Pn0YnVoE"
      },
      "execution_count": 24,
      "outputs": []
    },
    {
      "cell_type": "code",
      "source": [
        "def check_similarity(list1, list2):\n",
        "  result = 1 - spatial.distance.cosine(list1, list2)\n",
        "  return result"
      ],
      "metadata": {
        "id": "rf8j-SI7nW4u"
      },
      "execution_count": 25,
      "outputs": []
    },
    {
      "cell_type": "code",
      "source": [
        "def store_cordinates(lm_list, dict_coordinates):\n",
        "  dict_coordinates['left_hand'].append((lm_list[38], lm_list[39])) #left_index - x, y \n",
        "  dict_coordinates['right_hand'].append((lm_list[48], lm_list[41])) \n",
        "  dict_coordinates['left_leg'].append((lm_list[46], lm_list[47])) \n",
        "  dict_coordinates['right_leg'].append((lm_list[48], lm_list[49])) \n",
        "  dict_coordinates['left_hip'].append((lm_list[62], lm_list[63])) \n",
        "  dict_coordinates['right_hip'].append((lm_list[64], lm_list[65])) "
      ],
      "metadata": {
        "id": "nL5P_5K-nYOK"
      },
      "execution_count": 26,
      "outputs": []
    },
    {
      "cell_type": "code",
      "source": [
        "from IPython.core.display import ProgressBar\n",
        "dict_coordinates = {'left_hand': [], 'right_hand': [], 'left_leg': [], 'right_leg': [], 'left_hip': [], 'right_hip': []}\n",
        "prev = []\n",
        "flag = True\n",
        "\n",
        "while True:\n",
        "   success, img = cap.read()\n",
        "   print('Starting Again')\n",
        "   imgRGB = cv2.cvtColor(img, cv2.COLOR_BGR2RGB)\n",
        "   results = pose.process(imgRGB)\n",
        "\n",
        "   lm_list = []\n",
        "\n",
        "   if results.pose_landmarks:\n",
        "       \n",
        "       #Add all 66 cordinates to lm_list\n",
        "       \n",
        "       for id, lm in enumerate(results.pose_landmarks.landmark):  \n",
        "         #h, w, c = img.shape()\n",
        "         #cx, cy = int(lm.x*w), int(lm.y*h)\n",
        "         #cv2.circle(img, (cx, cy), 5, (255,0, 150), cv2.FILLED)\n",
        "         lm_list.append(lm.x)\n",
        "         lm_list.append(lm.y)\n",
        "\n",
        "      #  print('LM list',lm_list)\n",
        "      #  print(len(lm_list))\n",
        "      #  print('prev list',prev)\n",
        "      #for first frame store coordinates\n",
        "       if(flag == True):\n",
        "         flag = False\n",
        "         store_cordinates(lm_list, dict_coordinates)\n",
        "         prev = lm_list\n",
        "      \n",
        "      #from next frame onwards first check similarity then store\n",
        "       else:\n",
        "         result = check_similarity(prev, lm_list) #prev = 66 cordinates, lm_list = 66 cordinates\n",
        "         print(result)\n",
        "         if(result < 0.2):\n",
        "           store_cordinates(lm_list, dict_coordinates)\n",
        "           #mpDraw.draw_landmarks(img, results.pose_landmarks, mpPose.POSE_CONNECTIONS)\n",
        "           print(\"Similarity found between prev and curr frame\")\n",
        "         prev = lm_list\n",
        "          \n",
        "   cTime = time.time()\n",
        "   fps = 1 / (cTime - pTime)\n",
        "   pTime = cTime\n",
        "  \n",
        "   cv2.putText(img, str(int(fps)), (70, 50), cv2.FONT_HERSHEY_PLAIN, 3, (255, 0, 0), 3)\n",
        "  \n",
        "  \n",
        "   #cv2_imshow(img)\n",
        "  \n",
        "   if cv2.waitKey(40) == ord(\"q\"):\n",
        "     break"
      ],
      "metadata": {
        "colab": {
          "base_uri": "https://localhost:8080/",
          "height": 1000
        },
        "id": "1UeGf37EaK2g",
        "outputId": "1a2949a9-7a76-48aa-bad3-1461e03d4d99"
      },
      "execution_count": 28,
      "outputs": [
        {
          "output_type": "stream",
          "name": "stdout",
          "text": [
            "Starting Again\n",
            "Starting Again\n",
            "0.9999981100189915\n",
            "Starting Again\n",
            "0.9999997339855242\n",
            "Starting Again\n",
            "0.9999991941570601\n",
            "Starting Again\n",
            "0.9999998278409841\n",
            "Starting Again\n",
            "0.9999980941442159\n",
            "Starting Again\n",
            "0.9999976471356721\n",
            "Starting Again\n",
            "0.9999995018273504\n",
            "Starting Again\n",
            "0.9999986885486314\n",
            "Starting Again\n",
            "0.9999992741839165\n",
            "Starting Again\n",
            "0.9999997139269708\n",
            "Starting Again\n",
            "0.9999957062660869\n",
            "Starting Again\n",
            "0.9999988298899329\n",
            "Starting Again\n",
            "0.9999971609605373\n",
            "Starting Again\n",
            "0.9999956431517476\n",
            "Starting Again\n",
            "0.9999908960803447\n",
            "Starting Again\n",
            "0.9999929219929666\n",
            "Starting Again\n",
            "0.9999965656416937\n",
            "Starting Again\n",
            "0.9999936336945763\n",
            "Starting Again\n",
            "0.999992411349366\n",
            "Starting Again\n",
            "0.9999939220776592\n",
            "Starting Again\n",
            "0.999999556671729\n",
            "Starting Again\n",
            "0.9999965307840739\n",
            "Starting Again\n",
            "0.9999992880381191\n",
            "Starting Again\n",
            "0.9999911591969044\n",
            "Starting Again\n",
            "0.9999895852247302\n",
            "Starting Again\n",
            "0.9999699514267456\n",
            "Starting Again\n",
            "0.9999757979299563\n",
            "Starting Again\n",
            "0.9999557304953898\n",
            "Starting Again\n",
            "0.9997302017945559\n",
            "Starting Again\n",
            "0.999804527079783\n",
            "Starting Again\n",
            "0.9999494733247306\n"
          ]
        },
        {
          "output_type": "error",
          "ename": "KeyboardInterrupt",
          "evalue": "ignored",
          "traceback": [
            "\u001b[0;31m---------------------------------------------------------------------------\u001b[0m",
            "\u001b[0;31mKeyboardInterrupt\u001b[0m                         Traceback (most recent call last)",
            "\u001b[0;32m<ipython-input-28-4c417b72c4b2>\u001b[0m in \u001b[0;36m<module>\u001b[0;34m()\u001b[0m\n\u001b[1;32m      5\u001b[0m \u001b[0;34m\u001b[0m\u001b[0m\n\u001b[1;32m      6\u001b[0m \u001b[0;32mwhile\u001b[0m \u001b[0;32mTrue\u001b[0m\u001b[0;34m:\u001b[0m\u001b[0;34m\u001b[0m\u001b[0;34m\u001b[0m\u001b[0m\n\u001b[0;32m----> 7\u001b[0;31m    \u001b[0msuccess\u001b[0m\u001b[0;34m,\u001b[0m \u001b[0mimg\u001b[0m \u001b[0;34m=\u001b[0m \u001b[0mcap\u001b[0m\u001b[0;34m.\u001b[0m\u001b[0mread\u001b[0m\u001b[0;34m(\u001b[0m\u001b[0;34m)\u001b[0m\u001b[0;34m\u001b[0m\u001b[0;34m\u001b[0m\u001b[0m\n\u001b[0m\u001b[1;32m      8\u001b[0m    \u001b[0mprint\u001b[0m\u001b[0;34m(\u001b[0m\u001b[0;34m'Starting Again'\u001b[0m\u001b[0;34m)\u001b[0m\u001b[0;34m\u001b[0m\u001b[0;34m\u001b[0m\u001b[0m\n\u001b[1;32m      9\u001b[0m    \u001b[0mimgRGB\u001b[0m \u001b[0;34m=\u001b[0m \u001b[0mcv2\u001b[0m\u001b[0;34m.\u001b[0m\u001b[0mcvtColor\u001b[0m\u001b[0;34m(\u001b[0m\u001b[0mimg\u001b[0m\u001b[0;34m,\u001b[0m \u001b[0mcv2\u001b[0m\u001b[0;34m.\u001b[0m\u001b[0mCOLOR_BGR2RGB\u001b[0m\u001b[0;34m)\u001b[0m\u001b[0;34m\u001b[0m\u001b[0;34m\u001b[0m\u001b[0m\n",
            "\u001b[0;31mKeyboardInterrupt\u001b[0m: "
          ]
        }
      ]
    }
  ]
}