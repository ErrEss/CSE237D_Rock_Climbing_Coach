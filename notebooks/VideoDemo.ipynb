{
 "cells": [
  {
   "cell_type": "code",
   "execution_count": 1,
   "id": "5ec606b5",
   "metadata": {},
   "outputs": [],
   "source": [
    "import cv2\n",
    "import mediapipe as mp\n",
    "import time\n",
    "from scipy import spatial\n",
    "from IPython.core.display import ProgressBar\n",
    "from matplotlib import pyplot as plt\n",
    "from PIL import Image\n",
    "import numpy as np"
   ]
  },
  {
   "cell_type": "code",
   "execution_count": 2,
   "id": "af1fd888",
   "metadata": {},
   "outputs": [],
   "source": [
    "VIDEO_PATH = '../datasets/rock_dataset_0/clip10/climb.mp4'\n",
    "HOLDS_PATH = '../datasets/rock_dataset_0/clip10/holds.jpg'"
   ]
  },
  {
   "cell_type": "markdown",
   "id": "908bc20f",
   "metadata": {},
   "source": [
    "## Extract Video and Pose Information"
   ]
  },
  {
   "cell_type": "code",
   "execution_count": 3,
   "id": "0389657e",
   "metadata": {},
   "outputs": [],
   "source": [
    "def get_video_array(vid_path):\n",
    "    cap = cv2.VideoCapture(vid_path)\n",
    "    to_read = True\n",
    "    vid_arr = []\n",
    "    while to_read:\n",
    "        to_read, frame = cap.read()\n",
    "        if to_read:\n",
    "            frame = cv2.cvtColor(frame, cv2.COLOR_BGR2RGB)\n",
    "            vid_arr.append(frame)\n",
    "    return np.array(vid_arr)"
   ]
  },
  {
   "cell_type": "code",
   "execution_count": 4,
   "id": "f892ce7d",
   "metadata": {},
   "outputs": [
    {
     "data": {
      "text/plain": [
       "(560, 1080, 1920, 3)"
      ]
     },
     "execution_count": 4,
     "metadata": {},
     "output_type": "execute_result"
    }
   ],
   "source": [
    "arr = get_video_array(VIDEO_PATH)\n",
    "\n",
    "arr.shape"
   ]
  },
  {
   "cell_type": "code",
   "execution_count": 5,
   "id": "ee860df0",
   "metadata": {},
   "outputs": [],
   "source": [
    "NEW_WIDTH = 576\n",
    "NEW_HEIGHT = 1080"
   ]
  },
  {
   "cell_type": "code",
   "execution_count": 6,
   "id": "7bab935d",
   "metadata": {},
   "outputs": [],
   "source": [
    "def crop_video(vid_arr, new_width, new_height):\n",
    "    cropped_video = []\n",
    "    for i in range(vid_arr.shape[0]):\n",
    "        frame = vid_arr[i]\n",
    "        im = Image.fromarray(frame)\n",
    "        \n",
    "        width, height = im.size   # Get dimensions\n",
    "\n",
    "        left = (width - new_width)/2\n",
    "        top = (height - new_height)/2\n",
    "        right = (width + new_width)/2\n",
    "        bottom = (height + new_height)/2\n",
    "\n",
    "        # Crop the center of the image\n",
    "        cropped = im.crop((left, top, right, bottom))\n",
    "        cropped_video.append(np.array(cropped))\n",
    "    return np.array(cropped_video)"
   ]
  },
  {
   "cell_type": "code",
   "execution_count": 7,
   "id": "eba83009",
   "metadata": {},
   "outputs": [],
   "source": [
    "cropped = arr"
   ]
  },
  {
   "cell_type": "code",
   "execution_count": 8,
   "id": "febb12dd",
   "metadata": {
    "scrolled": true
   },
   "outputs": [],
   "source": [
    "# cropped = crop_video(arr, NEW_WIDTH, NEW_HEIGHT)\n",
    "\n",
    "# cropped.shape"
   ]
  },
  {
   "cell_type": "code",
   "execution_count": 9,
   "id": "39005607",
   "metadata": {},
   "outputs": [],
   "source": [
    "# fig, axes = plt.subplots(1, 2)\n",
    "# axes[0].imshow(arr[0])\n",
    "# axes[0].set_title('Original')\n",
    "# axes[1].imshow(cropped[0])\n",
    "# axes[1].set_title('Cropped')"
   ]
  },
  {
   "cell_type": "code",
   "execution_count": 10,
   "id": "74c055cd",
   "metadata": {},
   "outputs": [],
   "source": [
    "# gets all coordinate information from video\n",
    "def get_video_pose(vid_arr):\n",
    "    pose = mp.solutions.pose.Pose()\n",
    "    \n",
    "    dict_coordinates = {'left_hand': [], 'right_hand': [], 'left_hip': [], 'right_hip': [], 'left_leg': [], 'right_leg': []}\n",
    "    all_landmarks = []\n",
    "    all_results = []\n",
    "    frames = []\n",
    "    for i in range(vid_arr.shape[0]):\n",
    "        img = vid_arr[i]\n",
    "        results = pose.process(img)\n",
    "        \n",
    "        if results.pose_landmarks is not None:\n",
    "            frames.append(i)\n",
    "            lm_list = []\n",
    "            for id, lm in enumerate(results.pose_landmarks.landmark):  \n",
    "                h, w, c = img.shape\n",
    "                cx, cy = int(lm.x*w), int(lm.y*h)\n",
    "                lm_list.append(cx)\n",
    "                lm_list.append(cy)\n",
    "            all_landmarks.append(lm_list)\n",
    "            all_results.append(results)\n",
    "            dict_coordinates['left_hand'].append((lm_list[38], lm_list[39])) #left_index - x, y \n",
    "            dict_coordinates['right_hand'].append((lm_list[40], lm_list[41])) #right_index - x, y\n",
    "            dict_coordinates['left_hip'].append((lm_list[46], lm_list[47])) #left_hip - x, y\n",
    "            dict_coordinates['right_hip'].append((lm_list[48], lm_list[49])) #right_hip - x, y\n",
    "            dict_coordinates['left_leg'].append((lm_list[62], lm_list[63])) #left_foot - x, y\n",
    "            dict_coordinates['right_leg'].append((lm_list[64], lm_list[65])) #right_foot - x, y\n",
    "    \n",
    "    return frames, all_results, all_landmarks, dict_coordinates"
   ]
  },
  {
   "cell_type": "code",
   "execution_count": 11,
   "id": "c29f3991",
   "metadata": {},
   "outputs": [
    {
     "name": "stderr",
     "output_type": "stream",
     "text": [
      "INFO: Created TensorFlow Lite XNNPACK delegate for CPU.\n"
     ]
    }
   ],
   "source": [
    "frames, results_arr, landmarks_arr, joint_positions = get_video_pose(cropped)"
   ]
  },
  {
   "cell_type": "code",
   "execution_count": 12,
   "id": "193a1818",
   "metadata": {},
   "outputs": [],
   "source": [
    "cropped = cropped.take(frames, axis=0)"
   ]
  },
  {
   "cell_type": "code",
   "execution_count": 13,
   "id": "e73cf4b5",
   "metadata": {},
   "outputs": [],
   "source": [
    "# compute cosine smilarity between two lm lists \n",
    "def check_similarity(list1, list2):\n",
    "    result = 1 - spatial.distance.cosine(list1, list2)\n",
    "    return result"
   ]
  },
  {
   "cell_type": "code",
   "execution_count": 14,
   "id": "9a52c640",
   "metadata": {},
   "outputs": [],
   "source": [
    "# Get significant frames\n",
    "def get_significant_frames(landmarks):\n",
    "    significant = []\n",
    "    for i in range(len(landmarks)):\n",
    "        if i == 0:\n",
    "            significant.append(True)\n",
    "        else:\n",
    "            if check_similarity(prev, landmarks[i]) < 0.99999:\n",
    "                significant.append(True)\n",
    "            else:\n",
    "                significant.append(False)\n",
    "        prev = landmarks[i]\n",
    "    return significant"
   ]
  },
  {
   "cell_type": "code",
   "execution_count": 15,
   "id": "b4327f86",
   "metadata": {
    "scrolled": true
   },
   "outputs": [],
   "source": [
    "significances = get_significant_frames(landmarks_arr)"
   ]
  },
  {
   "cell_type": "markdown",
   "id": "c8e8ab3d",
   "metadata": {},
   "source": [
    "## Extract Hold Information"
   ]
  },
  {
   "cell_type": "code",
   "execution_count": 16,
   "id": "a68a176c",
   "metadata": {},
   "outputs": [],
   "source": [
    "import sys\n",
    "sys.path.append('../')\n",
    "\n",
    "import predict_holds"
   ]
  },
  {
   "cell_type": "code",
   "execution_count": 17,
   "id": "a5d005e8",
   "metadata": {},
   "outputs": [],
   "source": [
    "hold_img = cv2.cvtColor(cv2.imread(HOLDS_PATH), cv2.COLOR_BGR2RGB)\n",
    "# hold_img = crop_video(np.array([hold_img]), NEW_WIDTH, NEW_HEIGHT)[0]\n",
    "status, response = predict_holds.predict_holds(hold_img)"
   ]
  },
  {
   "cell_type": "code",
   "execution_count": 18,
   "id": "b3a7894e",
   "metadata": {},
   "outputs": [],
   "source": [
    "def process_hold_response(dic):\n",
    "    # can union with color frequency analysis in this method\n",
    "    hold_arr = dic['predictions']\n",
    "    holds = []\n",
    "    for elem in hold_arr:\n",
    "        center_x, center_y = elem['x'], elem['y']\n",
    "        width, height = elem['width'], elem['height']\n",
    "        \n",
    "        x_min = int(center_x - width/2)\n",
    "        y_min = int(center_y - height/2)\n",
    "        \n",
    "        x_max = int(center_x + width/2)\n",
    "        y_max = int(center_y + height/2)\n",
    "        \n",
    "        hold = [(x_min, y_min), (x_max, y_max)]\n",
    "        holds.append(hold)\n",
    "    return holds"
   ]
  },
  {
   "cell_type": "code",
   "execution_count": 19,
   "id": "cf49efc8",
   "metadata": {},
   "outputs": [],
   "source": [
    "climb_holds = process_hold_response(response)"
   ]
  },
  {
   "cell_type": "markdown",
   "id": "1dc9b0cf",
   "metadata": {},
   "source": [
    "## Create New Video with Overlaid Boxes & Poses"
   ]
  },
  {
   "cell_type": "code",
   "execution_count": 20,
   "id": "3607431f",
   "metadata": {},
   "outputs": [],
   "source": [
    "# each frame, identify boxes used\n",
    "# plot boxes used, and pose"
   ]
  },
  {
   "cell_type": "code",
   "execution_count": 21,
   "id": "0164a974",
   "metadata": {},
   "outputs": [],
   "source": [
    "def joint_in_hold(joint, hold):\n",
    "    # joint is (x, y)\n",
    "    # hold is [(x_min, y_min), (x_max, y_max)]\n",
    "    jx, jy = joint\n",
    "    h_xmin, h_ymin = hold[0]\n",
    "    h_xmax, h_ymax = hold[1]\n",
    "    \n",
    "    if jx <= h_xmax and jx >= h_xmin and jy <= h_ymax and jy >= h_ymin:\n",
    "        return True\n",
    "    else:\n",
    "        return False"
   ]
  },
  {
   "cell_type": "code",
   "execution_count": 22,
   "id": "4c2e97a6",
   "metadata": {},
   "outputs": [],
   "source": [
    "def get_holds_used(holds, dict_coordinates):\n",
    "    # should return a list of lists\n",
    "    # nested list should be an array of True/False\n",
    "    # each index of the nested list will correspond \n",
    "    # to the hold at that index in holds\n",
    "    \n",
    "    joint_list = list(zip(dict_coordinates['left_hand'], dict_coordinates['right_hand'], dict_coordinates['left_leg'], dict_coordinates['right_leg']))\n",
    "    holds_used = []\n",
    "    for i in range(len(joint_list)): # frames\n",
    "        used_arr = []\n",
    "        for h in range(len(holds)):\n",
    "            hold = holds[h]\n",
    "            joint_usage = [joint_in_hold(joint, hold) for joint in joint_list[i]]\n",
    "            if sum(joint_usage) >= 1:\n",
    "                try: # checking if next frame also uses same hold\n",
    "                    next_joint_usage = [joint_in_hold(joint, hold) for joint in joint_list[i+1]]\n",
    "                    if sum(next_joint_usage) >= 1:\n",
    "                        used_arr.append(True)\n",
    "                    else:\n",
    "                        used_arr.append(False)\n",
    "                except:\n",
    "                    used_arr.append(True)\n",
    "            else:\n",
    "                used_arr.append(False)\n",
    "        holds_used.append(used_arr)\n",
    "    return holds_used"
   ]
  },
  {
   "cell_type": "code",
   "execution_count": 23,
   "id": "f7f3ecf6",
   "metadata": {},
   "outputs": [],
   "source": [
    "climb_holds_used = get_holds_used(climb_holds, joint_positions)"
   ]
  },
  {
   "cell_type": "code",
   "execution_count": 24,
   "id": "4e5691dd",
   "metadata": {},
   "outputs": [],
   "source": [
    "def create_video(vid_arr, holds, holds_used, pose_results, dict_coordinates, frame_significances):\n",
    "    joint_list = list(zip(dict_coordinates['left_hand'], \n",
    "                          dict_coordinates['right_hand'], \n",
    "                          dict_coordinates['left_hip'], \n",
    "                          dict_coordinates['right_hip'], \n",
    "                          dict_coordinates['left_leg'], \n",
    "                          dict_coordinates['right_leg']))\n",
    "    mp.solutions.drawing_utils.draw_landmarks\n",
    "    plotted_frames = []\n",
    "    for t in range(vid_arr.shape[0]):\n",
    "        if frame_significances[t] == False:\n",
    "            continue\n",
    "        else:\n",
    "            print(t)\n",
    "            used = holds_used[t]\n",
    "            results = pose_results[t]\n",
    "\n",
    "            frame = vid_arr[t]\n",
    "            print(\"Drawing Holds\")\n",
    "            for h in range(len(used)):\n",
    "                # drawing holds used\n",
    "                if used[h]:\n",
    "                    frame = cv2.rectangle(frame, holds[h][0], holds[h][1], (0, 255, 120), 5)\n",
    "            # draw pose\n",
    "            print(\"Drawing Pose\")\n",
    "            mp.solutions.drawing_utils.draw_landmarks(frame, results.pose_landmarks, mp.solutions.pose.POSE_CONNECTIONS)\n",
    "\n",
    "            # draw keypoints\n",
    "            print(\"Drawing Keypoints\")\n",
    "            for j in range(len(joint_list[t])):\n",
    "                cx, cy = joint_list[t][j]\n",
    "                frame = cv2.circle(frame, (cx, cy), 5, (255,0, 150), cv2.FILLED)\n",
    "            plotted_frames.append(frame)\n",
    "    return np.array(plotted_frames)"
   ]
  },
  {
   "cell_type": "code",
   "execution_count": 25,
   "id": "12e99c26",
   "metadata": {
    "scrolled": true
   },
   "outputs": [
    {
     "name": "stdout",
     "output_type": "stream",
     "text": [
      "0\n",
      "Drawing Holds\n",
      "Drawing Pose\n",
      "Drawing Keypoints\n",
      "70\n",
      "Drawing Holds\n",
      "Drawing Pose\n",
      "Drawing Keypoints\n",
      "71\n",
      "Drawing Holds\n",
      "Drawing Pose\n",
      "Drawing Keypoints\n",
      "72\n",
      "Drawing Holds\n",
      "Drawing Pose\n",
      "Drawing Keypoints\n",
      "73\n",
      "Drawing Holds\n",
      "Drawing Pose\n",
      "Drawing Keypoints\n",
      "74\n",
      "Drawing Holds\n",
      "Drawing Pose\n",
      "Drawing Keypoints\n",
      "75\n",
      "Drawing Holds\n",
      "Drawing Pose\n",
      "Drawing Keypoints\n",
      "76\n",
      "Drawing Holds\n",
      "Drawing Pose\n",
      "Drawing Keypoints\n",
      "77\n",
      "Drawing Holds\n",
      "Drawing Pose\n",
      "Drawing Keypoints\n",
      "78\n",
      "Drawing Holds\n",
      "Drawing Pose\n",
      "Drawing Keypoints\n",
      "79\n",
      "Drawing Holds\n",
      "Drawing Pose\n",
      "Drawing Keypoints\n",
      "121\n",
      "Drawing Holds\n",
      "Drawing Pose\n",
      "Drawing Keypoints\n",
      "122\n",
      "Drawing Holds\n",
      "Drawing Pose\n",
      "Drawing Keypoints\n",
      "123\n",
      "Drawing Holds\n",
      "Drawing Pose\n",
      "Drawing Keypoints\n",
      "124\n",
      "Drawing Holds\n",
      "Drawing Pose\n",
      "Drawing Keypoints\n",
      "125\n",
      "Drawing Holds\n",
      "Drawing Pose\n",
      "Drawing Keypoints\n",
      "126\n",
      "Drawing Holds\n",
      "Drawing Pose\n",
      "Drawing Keypoints\n",
      "127\n",
      "Drawing Holds\n",
      "Drawing Pose\n",
      "Drawing Keypoints\n",
      "131\n",
      "Drawing Holds\n",
      "Drawing Pose\n",
      "Drawing Keypoints\n",
      "133\n",
      "Drawing Holds\n",
      "Drawing Pose\n",
      "Drawing Keypoints\n",
      "134\n",
      "Drawing Holds\n",
      "Drawing Pose\n",
      "Drawing Keypoints\n",
      "136\n",
      "Drawing Holds\n",
      "Drawing Pose\n",
      "Drawing Keypoints\n",
      "138\n",
      "Drawing Holds\n",
      "Drawing Pose\n",
      "Drawing Keypoints\n",
      "140\n",
      "Drawing Holds\n",
      "Drawing Pose\n",
      "Drawing Keypoints\n",
      "143\n",
      "Drawing Holds\n",
      "Drawing Pose\n",
      "Drawing Keypoints\n",
      "145\n",
      "Drawing Holds\n",
      "Drawing Pose\n",
      "Drawing Keypoints\n",
      "154\n",
      "Drawing Holds\n",
      "Drawing Pose\n",
      "Drawing Keypoints\n",
      "155\n",
      "Drawing Holds\n",
      "Drawing Pose\n",
      "Drawing Keypoints\n",
      "156\n",
      "Drawing Holds\n",
      "Drawing Pose\n",
      "Drawing Keypoints\n",
      "157\n",
      "Drawing Holds\n",
      "Drawing Pose\n",
      "Drawing Keypoints\n",
      "158\n",
      "Drawing Holds\n",
      "Drawing Pose\n",
      "Drawing Keypoints\n",
      "159\n",
      "Drawing Holds\n",
      "Drawing Pose\n",
      "Drawing Keypoints\n",
      "160\n",
      "Drawing Holds\n",
      "Drawing Pose\n",
      "Drawing Keypoints\n",
      "161\n",
      "Drawing Holds\n",
      "Drawing Pose\n",
      "Drawing Keypoints\n",
      "162\n",
      "Drawing Holds\n",
      "Drawing Pose\n",
      "Drawing Keypoints\n",
      "234\n",
      "Drawing Holds\n",
      "Drawing Pose\n",
      "Drawing Keypoints\n",
      "236\n",
      "Drawing Holds\n",
      "Drawing Pose\n",
      "Drawing Keypoints\n",
      "240\n",
      "Drawing Holds\n",
      "Drawing Pose\n",
      "Drawing Keypoints\n",
      "309\n",
      "Drawing Holds\n",
      "Drawing Pose\n",
      "Drawing Keypoints\n",
      "311\n",
      "Drawing Holds\n",
      "Drawing Pose\n",
      "Drawing Keypoints\n",
      "322\n",
      "Drawing Holds\n",
      "Drawing Pose\n",
      "Drawing Keypoints\n",
      "323\n",
      "Drawing Holds\n",
      "Drawing Pose\n",
      "Drawing Keypoints\n",
      "338\n",
      "Drawing Holds\n",
      "Drawing Pose\n",
      "Drawing Keypoints\n",
      "349\n",
      "Drawing Holds\n",
      "Drawing Pose\n",
      "Drawing Keypoints\n",
      "354\n",
      "Drawing Holds\n",
      "Drawing Pose\n",
      "Drawing Keypoints\n",
      "358\n",
      "Drawing Holds\n",
      "Drawing Pose\n",
      "Drawing Keypoints\n",
      "359\n",
      "Drawing Holds\n",
      "Drawing Pose\n",
      "Drawing Keypoints\n",
      "406\n",
      "Drawing Holds\n",
      "Drawing Pose\n",
      "Drawing Keypoints\n",
      "408\n",
      "Drawing Holds\n",
      "Drawing Pose\n",
      "Drawing Keypoints\n",
      "409\n",
      "Drawing Holds\n",
      "Drawing Pose\n",
      "Drawing Keypoints\n",
      "481\n",
      "Drawing Holds\n",
      "Drawing Pose\n",
      "Drawing Keypoints\n",
      "485\n",
      "Drawing Holds\n",
      "Drawing Pose\n",
      "Drawing Keypoints\n",
      "511\n",
      "Drawing Holds\n",
      "Drawing Pose\n",
      "Drawing Keypoints\n",
      "512\n",
      "Drawing Holds\n",
      "Drawing Pose\n",
      "Drawing Keypoints\n",
      "513\n",
      "Drawing Holds\n",
      "Drawing Pose\n",
      "Drawing Keypoints\n",
      "514\n",
      "Drawing Holds\n",
      "Drawing Pose\n",
      "Drawing Keypoints\n",
      "515\n",
      "Drawing Holds\n",
      "Drawing Pose\n",
      "Drawing Keypoints\n",
      "516\n",
      "Drawing Holds\n",
      "Drawing Pose\n",
      "Drawing Keypoints\n",
      "517\n",
      "Drawing Holds\n",
      "Drawing Pose\n",
      "Drawing Keypoints\n",
      "518\n",
      "Drawing Holds\n",
      "Drawing Pose\n",
      "Drawing Keypoints\n",
      "519\n",
      "Drawing Holds\n",
      "Drawing Pose\n",
      "Drawing Keypoints\n",
      "520\n",
      "Drawing Holds\n",
      "Drawing Pose\n",
      "Drawing Keypoints\n",
      "521\n",
      "Drawing Holds\n",
      "Drawing Pose\n",
      "Drawing Keypoints\n",
      "522\n",
      "Drawing Holds\n",
      "Drawing Pose\n",
      "Drawing Keypoints\n",
      "523\n",
      "Drawing Holds\n",
      "Drawing Pose\n",
      "Drawing Keypoints\n",
      "524\n",
      "Drawing Holds\n",
      "Drawing Pose\n",
      "Drawing Keypoints\n",
      "525\n",
      "Drawing Holds\n",
      "Drawing Pose\n",
      "Drawing Keypoints\n",
      "541\n",
      "Drawing Holds\n",
      "Drawing Pose\n",
      "Drawing Keypoints\n",
      "542\n",
      "Drawing Holds\n",
      "Drawing Pose\n",
      "Drawing Keypoints\n",
      "543\n",
      "Drawing Holds\n",
      "Drawing Pose\n",
      "Drawing Keypoints\n",
      "544\n",
      "Drawing Holds\n",
      "Drawing Pose\n",
      "Drawing Keypoints\n",
      "545\n",
      "Drawing Holds\n",
      "Drawing Pose\n",
      "Drawing Keypoints\n",
      "546\n",
      "Drawing Holds\n",
      "Drawing Pose\n",
      "Drawing Keypoints\n",
      "547\n",
      "Drawing Holds\n",
      "Drawing Pose\n",
      "Drawing Keypoints\n",
      "548\n",
      "Drawing Holds\n",
      "Drawing Pose\n",
      "Drawing Keypoints\n",
      "549\n",
      "Drawing Holds\n",
      "Drawing Pose\n",
      "Drawing Keypoints\n",
      "550\n",
      "Drawing Holds\n",
      "Drawing Pose\n",
      "Drawing Keypoints\n"
     ]
    }
   ],
   "source": [
    "plotted_vid = create_video(cropped, climb_holds, climb_holds_used, results_arr, joint_positions, significances)"
   ]
  },
  {
   "cell_type": "code",
   "execution_count": 26,
   "id": "c8102a14",
   "metadata": {},
   "outputs": [
    {
     "data": {
      "text/plain": [
       "(77, 1080, 1920, 3)"
      ]
     },
     "execution_count": 26,
     "metadata": {},
     "output_type": "execute_result"
    }
   ],
   "source": [
    "plotted_vid.shape"
   ]
  },
  {
   "cell_type": "code",
   "execution_count": 27,
   "id": "c6c14da0",
   "metadata": {},
   "outputs": [],
   "source": [
    "cropped_plotted_vid = crop_video(plotted_vid, NEW_WIDTH, NEW_HEIGHT)"
   ]
  },
  {
   "cell_type": "code",
   "execution_count": 28,
   "id": "ba3a0020",
   "metadata": {},
   "outputs": [
    {
     "data": {
      "text/plain": [
       "<matplotlib.image.AxesImage at 0x7f58c4417340>"
      ]
     },
     "execution_count": 28,
     "metadata": {},
     "output_type": "execute_result"
    },
    {
     "data": {
      "image/png": "[encoded data removed]",
      "text/plain": [
       "<Figure size 432x288 with 1 Axes>"
      ]
     },
     "metadata": {
      "needs_background": "light"
     },
     "output_type": "display_data"
    }
   ],
   "source": [
    "plt.imshow(cropped_plotted_vid[15])"
   ]
  },
  {
   "cell_type": "code",
   "execution_count": 29,
   "id": "03640acd",
   "metadata": {},
   "outputs": [],
   "source": [
    "frameSize = (NEW_WIDTH, NEW_HEIGHT)\n",
    "fourcc= cv2.VideoWriter_fourcc(*'MJPG')\n",
    "out = cv2.VideoWriter('test.avi', fourcc, 5, (NEW_WIDTH, NEW_HEIGHT), isColor=True)\n",
    "\n",
    "for i in range(cropped_plotted_vid.shape[0]):\n",
    "    img = cropped_plotted_vid[i]\n",
    "    out.write(cv2.cvtColor(img, cv2.COLOR_RGB2BGR))\n",
    "\n",
    "out.release()"
   ]
  },
  {
   "cell_type": "code",
   "execution_count": null,
   "id": "d8f3cf0a",
   "metadata": {},
   "outputs": [],
   "source": []
  }
 ],
 "metadata": {
  "kernelspec": {
   "display_name": "Python 3 (ipykernel)",
   "language": "python",
   "name": "python3"
  },
  "language_info": {
   "codemirror_mode": {
    "name": "ipython",
    "version": 3
   },
   "file_extension": ".py",
   "mimetype": "text/x-python",
   "name": "python",
   "nbconvert_exporter": "python",
   "pygments_lexer": "ipython3",
   "version": "3.9.5"
  }
 },
 "nbformat": 4,
 "nbformat_minor": 5
}
